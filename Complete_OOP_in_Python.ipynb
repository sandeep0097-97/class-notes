{
  "nbformat": 4,
  "nbformat_minor": 0,
  "metadata": {
    "colab": {
      "provenance": []
    },
    "kernelspec": {
      "name": "python3",
      "display_name": "Python 3"
    },
    "language_info": {
      "name": "python"
    }
  },
  "cells": [
    {
      "cell_type": "markdown",
      "source": [
        "\n",
        "##The lecture on \"Complete OOP in Python\"covers the following key topics:\n",
        "\n",
        "###1)Introduction to OOP: Basics of Object-Oriented Programming, its principles, and advantages.\n",
        "###2)Classes and Objects: How to define classes and create objects, including attributes and methods.\n",
        "###3)Inheritance: Implementing inheritance to create a hierarchical class structure.\n",
        "###4)Encapsulation: Using access modifiers to restrict access to class components.\n",
        "###5)Polymorphism: Method overriding and operator overloading to achieve polymorphism.\n",
        "###6)Abstraction: Abstract classes and methods to define interfaces.\n",
        "###7)Exception Handling: Using try-except blocks to handle runtime errors.\n",
        "\n",
        "\n",
        "```\n",
        "\n",
        "\n",
        "\n"
      ],
      "metadata": {
        "id": "SdakDwl-iPzJ"
      }
    },
    {
      "cell_type": "markdown",
      "source": [
        "#1)Introduction to Object-Oriented Programming (OOP)\n"
      ],
      "metadata": {
        "id": "cay4tdTnhsBq"
      }
    },
    {
      "cell_type": "markdown",
      "source": [
        "###Object-Oriented Programming (OOP) is a programming paradigm centered around the concept of objects, which are instances of classes. Classes define the blueprint of objects, encapsulating data (attributes) and behavior (methods).\n",
        "\n",
        "\n",
        "\n",
        "\n",
        "\n",
        "```\n",
        "\n"
      ],
      "metadata": {
        "id": "ow1lSD-Uh1xk"
      }
    },
    {
      "cell_type": "markdown",
      "source": [
        "###Key Concepts:\n",
        "##Classes and Objects:\n",
        "\n",
        "####Class: A template for creating objects (e.g., class Dog:).\n",
        "####Object: An instance of a class (e.g., my_dog = Dog()).\n",
        "###Four Principles of OOP:\n",
        "\n",
        "####Encapsulation: Bundling data and methods that operate on the data within one unit, and restricting access to some of the object's components.\n",
        "####Abstraction: Hiding complex implementation details and showing only the necessary features of the object.\n",
        "####Inheritance: Creating a new class from an existing class, inheriting attributes and methods.\n",
        "####Polymorphism: Allowing objects to be treated as instances of their parent class, enabling methods to be used interchangeably.\n",
        "#Benefits of OOP:\n",
        "####Modularity: Code is divided into discrete objects, which makes it easier to manage and modify.\n",
        "####Reusability: Classes can be reused across different programs.\n",
        "####Scalability: OOP makes it easier to manage and expand codebases for large projects.\n",
        "##Example:"
      ],
      "metadata": {
        "id": "8yaYHkbcjICr"
      }
    },
    {
      "cell_type": "code",
      "source": [
        "class Dog:\n",
        "    def __init__(self, name, breed):\n",
        "        self.name = name\n",
        "        self.breed = breed\n",
        "\n",
        "    def bark(self):\n",
        "        return f\"{self.name} says woof!\"\n",
        "\n",
        "my_dog = Dog(\"Rex\", \"German Shepherd\")\n",
        "print(my_dog.bark())  # Output: Rex says woof!\n"
      ],
      "metadata": {
        "colab": {
          "base_uri": "https://localhost:8080/"
        },
        "id": "-GtUr7WThuYP",
        "outputId": "eaa8c5e7-6f56-47fa-bc82-2f20bfefc44e"
      },
      "execution_count": null,
      "outputs": [
        {
          "output_type": "stream",
          "name": "stdout",
          "text": [
            "Rex says woof!\n"
          ]
        }
      ]
    },
    {
      "cell_type": "markdown",
      "source": [
        "####In this example, Dog is a class with attributes name and breed, and a method bark(). my_dog is an object of the Dog class.\n",
        "\n"
      ],
      "metadata": {
        "id": "DnKoKXQWkEUp"
      }
    },
    {
      "cell_type": "markdown",
      "source": [
        "#2)Classes and Objects in Python"
      ],
      "metadata": {
        "id": "XRbBSAnPkMFJ"
      }
    },
    {
      "cell_type": "markdown",
      "source": [
        "####Defining a Class:\n",
        "A class in Python is defined using the class keyword. It can contain attributes (variables) and methods (functions)"
      ],
      "metadata": {
        "id": "8RhmF7PekS0G"
      }
    },
    {
      "cell_type": "code",
      "source": [
        "class Dog:\n",
        "    # Class attribute\n",
        "    species = \"Canis familiaris\"\n",
        "\n",
        "    # Initializer / Instance attributes\n",
        "    def __init__(self, name, age):\n",
        "        self.name = name\n",
        "        self.age = age\n",
        "\n",
        "    # Instance method\n",
        "    def bark(self):\n",
        "        return f\"{self.name} says woof!\"\n"
      ],
      "metadata": {
        "id": "dB-ERobzkXNt"
      },
      "execution_count": null,
      "outputs": []
    },
    {
      "cell_type": "markdown",
      "source": [
        "###Creating an Object:\n",
        "To create an object, you instantiate a class by calling it like a function."
      ],
      "metadata": {
        "id": "kvlKBrbjiKZt"
      }
    },
    {
      "cell_type": "code",
      "source": [
        "my_dog = Dog(\"Rex\", 5)\n",
        "\n",
        "# Accessing attributes\n",
        "print(my_dog.name)  # Output: Rex\n",
        "print(my_dog.age)   # Output: 5\n",
        "\n",
        "# Calling a method\n",
        "print(my_dog.bark())  # Output: Rex says woof!\n"
      ],
      "metadata": {
        "colab": {
          "base_uri": "https://localhost:8080/"
        },
        "id": "FEn5XUxekeHK",
        "outputId": "6c9f1a5d-3647-4640-f2d3-f2e16b2cb595"
      },
      "execution_count": null,
      "outputs": [
        {
          "output_type": "stream",
          "name": "stdout",
          "text": [
            "Rex\n",
            "5\n",
            "Rex says woof!\n"
          ]
        }
      ]
    },
    {
      "cell_type": "markdown",
      "source": [
        "##C**omponents** :\n",
        "##1)Attributes: Variables that belong to the class or objects.\n",
        "\n",
        "###Class attributes are shared among all instances.\n",
        "###Instance attributes are unique to each instance.\n",
        "##2)Methods: Functions defined within a class.\n",
        "\n",
        "###Instance methods take self as the first parameter to access instance attributes and methods.\n",
        "###By using classes and objects, you can model real-world entities and their interactions, which is the core of Object-Oriented Programming."
      ],
      "metadata": {
        "id": "wbgPEBqvkpSA"
      }
    },
    {
      "cell_type": "markdown",
      "source": [
        "#3)Inheritance in Python\n",
        "##Inheritance allows a new class (derived class) to inherit attributes and methods from an existing class (base class). This promotes code reusability and hierarchical class structures.\n",
        "\n",
        "#Defining a Base Class:"
      ],
      "metadata": {
        "id": "8GxFrGihlOip"
      }
    },
    {
      "cell_type": "code",
      "source": [
        "\n",
        "class Animal:\n",
        "    def __init__(self, name):\n",
        "        self.name = name\n",
        "\n",
        "    def speak(self):\n",
        "        pass  # This method will be overridden in derived classes\n"
      ],
      "metadata": {
        "id": "rbe9fcnPkgHy"
      },
      "execution_count": null,
      "outputs": []
    },
    {
      "cell_type": "markdown",
      "source": [
        "#Creating a Derived Class:"
      ],
      "metadata": {
        "id": "7tr37sg7ljbD"
      }
    },
    {
      "cell_type": "code",
      "source": [
        "class Dog(Animal):\n",
        "    def speak(self):\n",
        "        return f\"{self.name} says woof!\"\n"
      ],
      "metadata": {
        "id": "D60rkhhflgIl"
      },
      "execution_count": null,
      "outputs": []
    },
    {
      "cell_type": "markdown",
      "source": [
        "#Using the Derived Class:"
      ],
      "metadata": {
        "id": "RGUpxhKhlqR8"
      }
    },
    {
      "cell_type": "code",
      "source": [
        "my_dog = Dog(\"Rex\")\n",
        "print(my_dog.speak())  # Output: Rex says woof!\n"
      ],
      "metadata": {
        "colab": {
          "base_uri": "https://localhost:8080/"
        },
        "id": "7QQyZr_Elmhl",
        "outputId": "85aa9bd4-6849-4f51-fcb5-a9faad807821"
      },
      "execution_count": null,
      "outputs": [
        {
          "output_type": "stream",
          "name": "stdout",
          "text": [
            "Rex says woof!\n"
          ]
        }
      ]
    },
    {
      "cell_type": "markdown",
      "source": [
        "#Example of Multiple Inheritance:\n",
        "##Python also supports multiple inheritance, where a class can inherit from more than one base class."
      ],
      "metadata": {
        "id": "l6_y2egClyFH"
      }
    },
    {
      "cell_type": "code",
      "source": [
        "class Mammal:\n",
        "    def walk(self):\n",
        "        return \"Walks on land\"\n",
        "\n",
        "class Bird:\n",
        "    def fly(self):\n",
        "        return \"Flies in the air\"\n",
        "\n",
        "class Bat(Mammal, Bird):\n",
        "    pass\n",
        "\n",
        "bat = Bat()\n",
        "print(bat.walk())  # Output: Walks on land\n",
        "print(bat.fly())   # Output: Flies in the air\n"
      ],
      "metadata": {
        "colab": {
          "base_uri": "https://localhost:8080/"
        },
        "id": "uIITX7m9ltQ4",
        "outputId": "e251dcc6-d882-4037-d668-ca2496ff498f"
      },
      "execution_count": null,
      "outputs": [
        {
          "output_type": "stream",
          "name": "stdout",
          "text": [
            "Walks on land\n",
            "Flies in the air\n"
          ]
        }
      ]
    },
    {
      "cell_type": "markdown",
      "source": [
        "##Inheritance allows you to build complex class hierarchies and reuse code efficiently.\n",
        "\n",
        "\n",
        "\n",
        "\n",
        "\n",
        "\n"
      ],
      "metadata": {
        "id": "JwpREbAtl67r"
      }
    },
    {
      "cell_type": "markdown",
      "source": [
        "#4)Encapsulation in Python\n",
        "##Encapsulation is the concept of restricting access to certain parts of an object and bundling data with methods that operate on that data. This is achieved using access modifiers:\n",
        "\n",
        "#1)Public Attributes/Methods: Accessible from anywhere.\n"
      ],
      "metadata": {
        "id": "_MIWUot_mCKQ"
      }
    },
    {
      "cell_type": "code",
      "source": [
        "class MyClass:\n",
        "    def __init__(self):\n",
        "        self.public_attr = \"I am public\"\n"
      ],
      "metadata": {
        "id": "58adTcuWl3vh"
      },
      "execution_count": null,
      "outputs": []
    },
    {
      "cell_type": "markdown",
      "source": [
        "#2)Protected Attributes/Methods: Indicated by a single underscore (_), they should not be accessed directly outside the class."
      ],
      "metadata": {
        "id": "pAfBmXVFnMRV"
      }
    },
    {
      "cell_type": "code",
      "source": [
        "class MyClass:\n",
        "    def __init__(self):\n",
        "        self._protected_attr = \"I am protected\"\n"
      ],
      "metadata": {
        "id": "xeCyHawunJke"
      },
      "execution_count": null,
      "outputs": []
    },
    {
      "cell_type": "markdown",
      "source": [
        "#3)Private Attributes/Methods: Indicated by a double underscore (__), they are not accessible directly outside the class."
      ],
      "metadata": {
        "id": "1HrH5TDbnWyF"
      }
    },
    {
      "cell_type": "code",
      "source": [
        "class MyClass:\n",
        "    def __init__(self):\n",
        "        self.__private_attr = \"I am private\"\n"
      ],
      "metadata": {
        "id": "6MrD_fHpnT6Z"
      },
      "execution_count": null,
      "outputs": []
    },
    {
      "cell_type": "markdown",
      "source": [
        "#Example"
      ],
      "metadata": {
        "id": "f4ynDLe8ndFZ"
      }
    },
    {
      "cell_type": "code",
      "source": [
        "\n",
        "class Example:\n",
        "    def __init__(self):\n",
        "        self.public = \"Public\"\n",
        "        self._protected = \"Protected\"\n",
        "        self.__private = \"Private\"\n",
        "\n",
        "    def get_private(self):\n",
        "        return self.__private\n",
        "\n",
        "obj = Example()\n",
        "print(obj.public)       # Output: Public\n",
        "print(obj._protected)   # Output: Protected\n",
        "print(obj.get_private())  # Output: Private\n",
        "\n"
      ],
      "metadata": {
        "colab": {
          "base_uri": "https://localhost:8080/"
        },
        "id": "cDKImhounaXW",
        "outputId": "16c6814d-d322-4eb8-e046-6f9106c904c5"
      },
      "execution_count": null,
      "outputs": [
        {
          "output_type": "stream",
          "name": "stdout",
          "text": [
            "Public\n",
            "Protected\n",
            "Private\n"
          ]
        }
      ]
    },
    {
      "cell_type": "code",
      "source": [
        "class Car:\n",
        "    def __init__(self, brand, model):\n",
        "        self.__brand = brand  # Private attribute\n",
        "        self.__model = model  # Private attribute\n",
        "\n",
        "    def get_brand(self):\n",
        "        return self.__brand\n",
        "\n",
        "    def get_model(self):\n",
        "        return self.__model\n",
        "\n",
        "my_car = Car(\"Toyota\", \"Camry\")\n",
        "print(my_car.get_brand())  # Accessing private attribute indirectly\n"
      ],
      "metadata": {
        "colab": {
          "base_uri": "https://localhost:8080/"
        },
        "id": "p9H9K0uonijC",
        "outputId": "185d8a1e-2a8e-44aa-e432-7572f0881814"
      },
      "execution_count": null,
      "outputs": [
        {
          "output_type": "stream",
          "name": "stdout",
          "text": [
            "Toyota\n"
          ]
        }
      ]
    },
    {
      "cell_type": "code",
      "source": [
        "class Student:\n",
        "    def __init__(self, name):\n",
        "        self.__name = name  # Private attribute\n",
        "\n",
        "    def get_name(self):\n",
        "        return self.__name\n",
        "\n",
        "    def set_name(self, name):\n",
        "        self.__name = name\n",
        "\n",
        "student = Student(\"Alice\")\n",
        "print(student.get_name())  # Accessing private attribute indirectly\n",
        "student.set_name(\"Bob\")    # Modifying private attribute indirectly\n"
      ],
      "metadata": {
        "colab": {
          "base_uri": "https://localhost:8080/"
        },
        "id": "-xC5Xur6oNfb",
        "outputId": "4a1efd34-c9df-43cd-dfe4-02d9d3f7826c"
      },
      "execution_count": null,
      "outputs": [
        {
          "output_type": "stream",
          "name": "stdout",
          "text": [
            "Alice\n"
          ]
        }
      ]
    },
    {
      "cell_type": "code",
      "source": [
        "class Circle:\n",
        "    def __init__(self, radius):\n",
        "        self.__radius = radius\n",
        "\n",
        "    def __calculate_area(self):  # Private method\n",
        "        return 3.14 * self.__radius ** 2\n",
        "\n",
        "    def get_area(self):\n",
        "        return self.__calculate_area()\n",
        "\n",
        "circle = Circle(5)\n",
        "print(circle.get_area())  # Accessing private method indirectly\n"
      ],
      "metadata": {
        "colab": {
          "base_uri": "https://localhost:8080/"
        },
        "id": "mBRaNAS9oRjm",
        "outputId": "c6026959-df58-4988-e8cd-27708e4f633c"
      },
      "execution_count": null,
      "outputs": [
        {
          "output_type": "stream",
          "name": "stdout",
          "text": [
            "78.5\n"
          ]
        }
      ]
    },
    {
      "cell_type": "code",
      "source": [
        "class BankAccount:\n",
        "    __interest_rate = 0.05  # Private class-level attribute\n",
        "\n",
        "    def __init__(self, balance):\n",
        "        self.__balance = balance\n",
        "\n",
        "    def add_interest(self):\n",
        "        self.__balance += self.__balance * BankAccount.__interest_rate\n",
        "\n",
        "account = BankAccount(1000)\n",
        "account.add_interest()\n"
      ],
      "metadata": {
        "id": "zedTaLkAoVmD"
      },
      "execution_count": null,
      "outputs": []
    },
    {
      "cell_type": "code",
      "source": [
        "class Animal:\n",
        "    def __init__(self, species):\n",
        "        self.__species = species\n",
        "\n",
        "    def get_species(self):\n",
        "        return self.__species\n",
        "\n",
        "class Dog(Animal):\n",
        "    def __init__(self, name):\n",
        "        super().__init__(\"Dog\")\n",
        "        self.__name = name\n",
        "\n",
        "    def get_name(self):\n",
        "        return self.__name\n",
        "\n",
        "dog = Dog(\"Buddy\")\n",
        "print(dog.get_species())  # Accessing parent's private attribute indirectly\n"
      ],
      "metadata": {
        "colab": {
          "base_uri": "https://localhost:8080/"
        },
        "id": "L3ycAH11oagb",
        "outputId": "1baf8a1f-2d80-4e6f-c60f-265e9b64d861"
      },
      "execution_count": null,
      "outputs": [
        {
          "output_type": "stream",
          "name": "stdout",
          "text": [
            "Dog\n"
          ]
        }
      ]
    },
    {
      "cell_type": "markdown",
      "source": [
        "#5)Polymorphism in Python\n",
        "#Polymorphism allows methods to operate differently based on the object they are acting upon. This can be achieved through method overriding and operator overloading.\n",
        "\n",
        "#Method Overriding:\n",
        "##In method overriding, a method in a derived class overrides a method in the base class."
      ],
      "metadata": {
        "id": "UaywciWiokkP"
      }
    },
    {
      "cell_type": "code",
      "source": [
        "class Animal:\n",
        "    def speak(self):\n",
        "        return \"Animal speaks\"\n",
        "\n",
        "class Dog(Animal):\n",
        "    def speak(self):\n",
        "        return \"Dog barks\"\n",
        "\n",
        "class Cat(Animal):\n",
        "    def speak(self):\n",
        "        return \"Cat meows\"\n",
        "\n",
        "animals = [Dog(), Cat()]\n",
        "for animal in animals:\n",
        "    print(animal.speak())  # Output: Dog barks, Cat meows\n"
      ],
      "metadata": {
        "colab": {
          "base_uri": "https://localhost:8080/"
        },
        "id": "hNJ2-A47odOD",
        "outputId": "91b78b3b-4a94-4dea-ba36-31324ce111c6"
      },
      "execution_count": null,
      "outputs": [
        {
          "output_type": "stream",
          "name": "stdout",
          "text": [
            "Dog barks\n",
            "Cat meows\n"
          ]
        }
      ]
    },
    {
      "cell_type": "markdown",
      "source": [
        "##Operator Overloading:\n",
        "Python allows you to define the behavior of operators for user-defined classes."
      ],
      "metadata": {
        "id": "UAk8WpDBo7ur"
      }
    },
    {
      "cell_type": "code",
      "source": [
        "class Vector:\n",
        "    def __init__(self, x, y):\n",
        "        self.x = x\n",
        "        self.y = y\n",
        "\n",
        "    def __add__(self, other):\n",
        "        return Vector(self.x + other.x, self.y + other.y)\n",
        "\n",
        "    def __str__(self):\n",
        "        return f\"Vector({self.x}, {self.y})\"\n",
        "\n",
        "v1 = Vector(2, 3)\n",
        "v2 = Vector(3, 5)\n",
        "v3 = v1 + v2\n",
        "print(v3)  # Output: Vector(5, 8)\n"
      ],
      "metadata": {
        "colab": {
          "base_uri": "https://localhost:8080/"
        },
        "id": "wwNyt9XPouRC",
        "outputId": "72c9b422-1a5a-47f5-bb95-c9637e087271"
      },
      "execution_count": null,
      "outputs": [
        {
          "output_type": "stream",
          "name": "stdout",
          "text": [
            "Vector(5, 8)\n"
          ]
        }
      ]
    },
    {
      "cell_type": "markdown",
      "source": [
        "#6)Abstraction in Python\n"
      ],
      "metadata": {
        "id": "ykZrf2ampIpj"
      }
    },
    {
      "cell_type": "markdown",
      "source": [
        "##Abstraction in Python is implemented using abstract classes and methods, which define interfaces without providing full implementations. This is achieved using the abc (Abstract Base Classes) module.\n",
        "\n",
        "#Abstract Classes and Methods:\n",
        "##An abstract class cannot be instantiated and typically contains one or more abstract methods that must be implemented by subclasses."
      ],
      "metadata": {
        "id": "gLouLLj3pQJi"
      }
    },
    {
      "cell_type": "code",
      "source": [
        "from abc import ABC, abstractmethod\n",
        "\n",
        "class Animal(ABC):\n",
        "    @abstractmethod\n",
        "    def make_sound(self):\n",
        "        pass\n",
        "\n",
        "class Dog(Animal):\n",
        "    def make_sound(self):\n",
        "        return \"Bark\"\n",
        "\n",
        "class Cat(Animal):\n",
        "    def make_sound(self):\n",
        "        return \"Meow\"\n",
        "\n",
        "# dog = Animal()  # This will raise an error\n",
        "dog = Dog()\n",
        "print(dog.make_sound())  # Output: Bark\n"
      ],
      "metadata": {
        "colab": {
          "base_uri": "https://localhost:8080/"
        },
        "id": "Cks_-r2Yo_Bf",
        "outputId": "8d03f28a-16a9-4ef0-ba5e-f76d9bfd7ac7"
      },
      "execution_count": null,
      "outputs": [
        {
          "output_type": "stream",
          "name": "stdout",
          "text": [
            "Bark\n"
          ]
        }
      ]
    },
    {
      "cell_type": "markdown",
      "source": [
        "##In this example, Animal is an abstract class with an abstract method make_sound. Subclasses Dog and Cat provide concrete implementations of this method. The Animal class cannot be instantiated directly."
      ],
      "metadata": {
        "id": "EbLpDqompY6z"
      }
    },
    {
      "cell_type": "code",
      "source": [
        "from abc import ABC, abstractmethod\n",
        "\n",
        "class Vehicle(ABC):\n",
        "    @abstractmethod\n",
        "    def start_engine(self):\n",
        "        pass\n",
        "\n",
        "    @abstractmethod\n",
        "    def stop_engine(self):\n",
        "        pass\n",
        "\n",
        "    def describe(self):\n",
        "        return \"This is a vehicle.\"\n",
        "\n",
        "class Car(Vehicle):\n",
        "    def start_engine(self):\n",
        "        return \"Car engine started.\"\n",
        "\n",
        "    def stop_engine(self):\n",
        "        return \"Car engine stopped.\"\n",
        "\n",
        "class Motorcycle(Vehicle):\n",
        "    def start_engine(self):\n",
        "        return \"Motorcycle engine started.\"\n",
        "\n",
        "    def stop_engine(self):\n",
        "        return \"Motorcycle engine stopped.\"\n",
        "\n",
        "# car = Vehicle()  # This will raise an error because Vehicle is abstract\n",
        "car = Car()\n",
        "motorcycle = Motorcycle()\n",
        "\n",
        "print(car.describe())          # Output: This is a vehicle.\n",
        "print(car.start_engine())      # Output: Car engine started.\n",
        "print(car.stop_engine())       # Output: Car engine stopped.\n",
        "\n",
        "print(motorcycle.describe())   # Output: This is a vehicle.\n",
        "print(motorcycle.start_engine()) # Output: Motorcycle engine started.\n",
        "print(motorcycle.stop_engine())  # Output: Motorcycle engine stopped.\n"
      ],
      "metadata": {
        "colab": {
          "base_uri": "https://localhost:8080/"
        },
        "id": "2Az0GF83pXOi",
        "outputId": "267eea9a-b9e2-495a-bc32-c2d6eec1250b"
      },
      "execution_count": null,
      "outputs": [
        {
          "output_type": "stream",
          "name": "stdout",
          "text": [
            "This is a vehicle.\n",
            "Car engine started.\n",
            "Car engine stopped.\n",
            "This is a vehicle.\n",
            "Motorcycle engine started.\n",
            "Motorcycle engine stopped.\n"
          ]
        }
      ]
    },
    {
      "cell_type": "markdown",
      "source": [
        "#Explanation\n",
        "##Abstract Class (Vehicle):\n",
        "\n",
        "###Defined with ABC from the abc module.\n",
        "###Contains abstract methods start_engine and stop_engine which must be implemented by any subclass.\n",
        "###Contains a concrete method describe that provides common functionality to all subclasses.\n",
        "##Concrete Subclasses (Car and Motorcycle):\n",
        "\n",
        "##Both classes inherit from Vehicle.\n",
        "##Implement the abstract methods start_engine and stop_engine."
      ],
      "metadata": {
        "id": "oo5B0PxCp5AJ"
      }
    },
    {
      "cell_type": "markdown",
      "source": [
        "##Usage\n",
        "Attempting to instantiate the abstract class Vehicle directly will raise an error. Instead, instantiate the subclasses (Car and Motorcycle) and use their implementations of the abstract methods. This demonstrates how abstraction enforces a contract for subclasses to follow, ensuring they provide specific functionality while allowing for shared behavior through concrete methods."
      ],
      "metadata": {
        "id": "0mqNHD24qGGI"
      }
    },
    {
      "cell_type": "markdown",
      "source": [
        "#7)Exception Handling: Using try-except blocks to handle runtime errors.\n"
      ],
      "metadata": {
        "id": "385eWoI8qQpa"
      }
    },
    {
      "cell_type": "markdown",
      "source": [
        "##Absolutely, exception handling using try-except blocks is a fundamental concept in programming, especially in languages like Python. It allows you to gracefully manage errors that might occur during runtime, preventing your program from crashing unexpectedly. Here's a basic example in Python:"
      ],
      "metadata": {
        "id": "xeTbN8tJqY9i"
      }
    },
    {
      "cell_type": "code",
      "source": [
        "try:\n",
        "    # Code that might raise an exception\n",
        "    result = 10 / 0  # This will raise a ZeroDivisionError\n",
        "except ZeroDivisionError:\n",
        "    # Code to handle the specific exception\n",
        "    print(\"Error: Division by zero!\")\n"
      ],
      "metadata": {
        "colab": {
          "base_uri": "https://localhost:8080/"
        },
        "id": "2-jmhFSipn81",
        "outputId": "c4c1f381-b8b5-4073-8e1c-e1d602a6ff4f"
      },
      "execution_count": null,
      "outputs": [
        {
          "output_type": "stream",
          "name": "stdout",
          "text": [
            "Error: Division by zero!\n"
          ]
        }
      ]
    },
    {
      "cell_type": "markdown",
      "source": [
        "##In this example, the code inside the try block attempts to divide 10 by 0, which is not allowed and raises a ZeroDivisionError. Instead of crashing, the program jumps to the except block where you can handle the error appropriately.\n",
        "\n",
        "#You can also have multiple except blocks to handle different types of exceptions:"
      ],
      "metadata": {
        "id": "S0ticKWMqf81"
      }
    },
    {
      "cell_type": "code",
      "source": [
        "try:\n",
        "    num = int(input(\"Enter a number: \"))\n",
        "    result = 10 / num\n",
        "except ValueError:\n",
        "    print(\"Error: Please enter a valid integer.\")\n",
        "except ZeroDivisionError:\n",
        "    print(\"Error: Division by zero!\")\n"
      ],
      "metadata": {
        "colab": {
          "base_uri": "https://localhost:8080/"
        },
        "id": "I2rAQtrmqcyb",
        "outputId": "a61dca85-9768-471b-ba95-c55fac012921"
      },
      "execution_count": null,
      "outputs": [
        {
          "name": "stdout",
          "output_type": "stream",
          "text": [
            "Enter a number: 44\n"
          ]
        }
      ]
    },
    {
      "cell_type": "markdown",
      "source": [
        "###This allows you to handle different types of errors in different ways. If none of the specified exceptions occur, the program continues executing after the try-except block.\n",
        "\n",
        "###Additionally, you can use a general except block to catch any exception that wasn't caught by the previous blocks, though this is generally discouraged unless you have a specific reason for it:"
      ],
      "metadata": {
        "id": "kIggTrBKqpEt"
      }
    },
    {
      "cell_type": "code",
      "source": [
        "try:\n",
        "    # Code that might raise an exception\n",
        "except Exception as e:\n",
        "    # Code to handle any exception\n",
        "    print(\"An error occurred:\", e)\n"
      ],
      "metadata": {
        "colab": {
          "base_uri": "https://localhost:8080/",
          "height": 106
        },
        "id": "3s4AnM5Tqj3k",
        "outputId": "858d3d6f-7669-463a-b45d-9f9e85d5b4ee"
      },
      "execution_count": null,
      "outputs": [
        {
          "output_type": "error",
          "ename": "IndentationError",
          "evalue": "expected an indented block after 'try' statement on line 1 (<ipython-input-23-51c024096a8b>, line 3)",
          "traceback": [
            "\u001b[0;36m  File \u001b[0;32m\"<ipython-input-23-51c024096a8b>\"\u001b[0;36m, line \u001b[0;32m3\u001b[0m\n\u001b[0;31m    except Exception as e:\u001b[0m\n\u001b[0m    ^\u001b[0m\n\u001b[0;31mIndentationError\u001b[0m\u001b[0;31m:\u001b[0m expected an indented block after 'try' statement on line 1\n"
          ]
        }
      ]
    },
    {
      "cell_type": "markdown",
      "source": [
        "Remember, it's important to handle exceptions appropriately to ensure your program behaves predictably, even when unexpected errors occur."
      ],
      "metadata": {
        "id": "SONS2VM8q0ap"
      }
    },
    {
      "cell_type": "code",
      "source": [],
      "metadata": {
        "id": "LOXispCSqt7s"
      },
      "execution_count": null,
      "outputs": []
    }
  ]
}